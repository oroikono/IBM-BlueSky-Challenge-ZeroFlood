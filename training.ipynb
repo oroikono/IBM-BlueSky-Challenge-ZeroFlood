{
  "cells": [
    {
      "cell_type": "markdown",
      "metadata": {
        "id": "tYym3NAyl5Qm"
      },
      "source": [
        "# Setup"
      ]
    },
    {
      "cell_type": "code",
      "execution_count": 27,
      "metadata": {
        "colab": {
          "base_uri": "https://localhost:8080/"
        },
        "id": "-I1D4ESxo2zA",
        "outputId": "d86812fd-06d5-48a4-a4c1-856916ab1846"
      },
      "outputs": [
        {
          "name": "stdout",
          "output_type": "stream",
          "text": [
            "The autoreload extension is already loaded. To reload it, use:\n",
            "  %reload_ext autoreload\n"
          ]
        }
      ],
      "source": [
        "%load_ext autoreload\n",
        "%autoreload 2"
      ]
    },
    {
      "cell_type": "markdown",
      "metadata": {
        "id": "YhUv5UVkl7dF"
      },
      "source": [
        "## Install packages"
      ]
    },
    {
      "cell_type": "code",
      "execution_count": null,
      "metadata": {
        "colab": {
          "base_uri": "https://localhost:8080/"
        },
        "collapsed": true,
        "id": "Wo-Jj_XlfmOT",
        "outputId": "c04c175e-b268-4e8e-81c8-bcc5988ba414"
      },
      "outputs": [],
      "source": [
        "! pip install -U datasets huggingface_hub\n",
        "! pip install terratorch==1.0.1 gdown tensorboard"
      ]
    },
    {
      "cell_type": "markdown",
      "metadata": {
        "id": "S-WCq7iLmAl9"
      },
      "source": [
        "## Import modules"
      ]
    },
    {
      "cell_type": "code",
      "execution_count": 38,
      "metadata": {
        "id": "uRNebjbimB1u"
      },
      "outputs": [],
      "source": [
        "import os\n",
        "import torch"
      ]
    },
    {
      "cell_type": "markdown",
      "metadata": {
        "id": "LEDmeG2pmELE"
      },
      "source": [
        "## Download the dataset"
      ]
    },
    {
      "cell_type": "code",
      "execution_count": null,
      "metadata": {
        "colab": {
          "base_uri": "https://localhost:8080/"
        },
        "id": "aK9In0GimD4i",
        "outputId": "9c288b63-5d5e-4e6d-fd75-dd5f024465b1"
      },
      "outputs": [],
      "source": [
        "! git lfs install\n",
        "! git clone https://huggingface.co/datasets/hk-kaden-kim/BlueSky-Challenge-Dataset"
      ]
    },
    {
      "cell_type": "code",
      "execution_count": 43,
      "metadata": {
        "colab": {
          "base_uri": "https://localhost:8080/"
        },
        "id": "_cslf0O73TGe",
        "outputId": "5e836b67-f7d6-4032-bad3-25452dc56d1c"
      },
      "outputs": [
        {
          "name": "stdout",
          "output_type": "stream",
          "text": [
            "train: 3184 images and 3184 masks\n",
            "test: 1332 images and 1332 masks\n",
            "val: 2128 images and 2128 masks\n"
          ]
        }
      ],
      "source": [
        "# Dataset statistics\n",
        "DATASET_DIR = \"BlueSky-Challenge-Dataset\"\n",
        "for split in [\"train\", \"test\", \"val\"]:\n",
        "  png_files_cnt = 0\n",
        "  csv_files_cnt = 0\n",
        "  for root, dirs, files in os.walk(os.path.join(DATASET_DIR, split)):\n",
        "      for file in files:\n",
        "          if file.endswith('.png'):\n",
        "              png_files_cnt += 1\n",
        "          if file.endswith('.csv'):\n",
        "              csv_files_cnt += 1\n",
        "  print(f\"{split}: {png_files_cnt} images and {csv_files_cnt} masks\")"
      ]
    },
    {
      "cell_type": "markdown",
      "metadata": {
        "id": "P6jNYRwYcN4_"
      },
      "source": [
        "# Training"
      ]
    },
    {
      "cell_type": "code",
      "execution_count": 71,
      "metadata": {
        "id": "XjrquDjucQKW"
      },
      "outputs": [],
      "source": [
        "from pytorch_lightning.callbacks import ModelCheckpoint\n",
        "from pytorch_lightning.loggers import TensorBoardLogger\n",
        "import pytorch_lightning as pl\n",
        "\n",
        "from dataset import FloodDataModule\n",
        "from model import FloodRiskModel"
      ]
    },
    {
      "cell_type": "code",
      "execution_count": 76,
      "metadata": {
        "id": "SLwoepcEhi8V"
      },
      "outputs": [],
      "source": [
        "MAX_EPOCHS = 10\n",
        "BATCH_SIZE = 8\n",
        "TiM = [\"S1RTC\",\"DEM\",\"LULC\",\"NDVI\"]"
      ]
    },
    {
      "cell_type": "code",
      "execution_count": 77,
      "metadata": {
        "colab": {
          "base_uri": "https://localhost:8080/",
          "height": 238
        },
        "id": "7E52MS5IeZoP",
        "outputId": "ce2e4500-b70f-490b-cc10-502958a84463"
      },
      "outputs": [
        {
          "name": "stdout",
          "output_type": "stream",
          "text": [
            "Training samples: 3184\n",
            "Validation samples: 2128\n",
            "\n",
            "Dataset Summary:\n",
            "Training samples: 3184\n",
            "Validation samples: 2128\n",
            "\n",
            "Testing dataset loading...\n",
            "Sample keys: dict_keys(['image', 'mask'])\n",
            "Image shape: torch.Size([3, 256, 256])\n",
            "Mask shape: torch.Size([256, 256])\n",
            "Mask unique values: tensor([0, 1])\n",
            "\n"
          ]
        }
      ],
      "source": [
        "# Initialize datamodule\n",
        "datamodule = FloodDataModule(\n",
        "    local_path=DATASET_DIR,\n",
        "    batch_size=BATCH_SIZE,  # Adjust based on GPU memory\n",
        "    num_workers=8\n",
        ")\n",
        "datamodule.setup(\"fit\")\n",
        "sample = datamodule.train_dataset[0]\n",
        "\n",
        "print(f\"\\nDataset Summary:\")\n",
        "print(f\"Training samples: {len(datamodule.train_dataset)}\")\n",
        "print(f\"Validation samples: {len(datamodule.val_dataset)}\")\n",
        "print(f\"Sample keys: {sample.keys()}\")\n",
        "print(f\"Image shape: {sample['image'].shape}\")\n",
        "print(f\"Mask shape: {sample['mask'].shape}\")\n",
        "print(f\"Mask unique values: {torch.unique(sample['mask'])}\")\n",
        "print()"
      ]
    },
    {
      "cell_type": "code",
      "execution_count": null,
      "metadata": {
        "colab": {
          "base_uri": "https://localhost:8080/",
          "height": 494,
          "referenced_widgets": [
            "36a1c68403724f8280ab43aefa76165e",
            "d7691cd2df92414ab930c5bc0ffc7eb1",
            "40ba6b6bf3224c3a8844ef4d720976ee",
            "e9833befadb549ec814e33a90e914623",
            "a947ee6e85064b5192ea6b5c71d9cfb7",
            "371a0ef688bf405489c59df2861d688b",
            "714d285bd4d64d70a445199735d72dab",
            "50f6035cc00a4327b9fe61c6ff0f83ad",
            "d248bd705ea24e5089abda310df81e53",
            "0d531c70e388432db5e014c9ff9ff40f",
            "86f263918c724287a83815369bf8c524",
            "33a0fbecb22a4cca93420ccd4cd20a34",
            "88f7cdf333e64638af08d3e2026f959a",
            "2524006852ce4aa89b45ee9cc138a154",
            "c2e934ebc25041409b96d0480ad072e4",
            "ba60ae635ffb492498b3ddb1ca3ae095",
            "bbaf7afce7df42e282cbc15058e3f09e",
            "9518baf157e344c79d80bc3296fb6359",
            "8d5e163354e841dd9d38b5bbf1474722",
            "18e00dd764124e4691b974545ec52b5f",
            "7d087cb10e1443e4bef9672df7ef8c38",
            "abf0be2bfbac461d8e5c9154ba5eab5e"
          ]
        },
        "id": "nGupn2fBgUPm",
        "outputId": "53561a15-2a35-435e-c729-90063ad44633"
      },
      "outputs": [
        {
          "name": "stderr",
          "output_type": "stream",
          "text": [
            "WARNING:root:Decoder UNetDecoder does not have an `includes_head` attribute. Falling back to the value of the registry.\n",
            "INFO:pytorch_lightning.utilities.rank_zero:GPU available: True (cuda), used: True\n",
            "INFO:pytorch_lightning.utilities.rank_zero:TPU available: False, using: 0 TPU cores\n",
            "INFO:pytorch_lightning.utilities.rank_zero:HPU available: False, using: 0 HPUs\n"
          ]
        },
        {
          "name": "stdout",
          "output_type": "stream",
          "text": [
            " Starting flood segmentation training with CSV masks...\n"
          ]
        },
        {
          "name": "stderr",
          "output_type": "stream",
          "text": [
            "INFO:pytorch_lightning.accelerators.cuda:LOCAL_RANK: 0 - CUDA_VISIBLE_DEVICES: [0]\n"
          ]
        },
        {
          "name": "stdout",
          "output_type": "stream",
          "text": [
            "Training samples: 3184\n",
            "Validation samples: 2128\n"
          ]
        },
        {
          "name": "stderr",
          "output_type": "stream",
          "text": [
            "INFO:pytorch_lightning.callbacks.model_summary:\n",
            "  | Name      | Type                     | Params | Mode \n",
            "---------------------------------------------------------------\n",
            "0 | model     | SemanticSegmentationTask | 381 M  | train\n",
            "1 | train_iou | MulticlassJaccardIndex   | 0      | train\n",
            "2 | val_iou   | MulticlassJaccardIndex   | 0      | train\n",
            "3 | train_acc | MulticlassAccuracy       | 0      | train\n",
            "4 | val_acc   | MulticlassAccuracy       | 0      | train\n",
            "5 | train_f1  | MulticlassF1Score        | 0      | train\n",
            "6 | val_f1    | MulticlassF1Score        | 0      | train\n",
            "---------------------------------------------------------------\n",
            "128 M     Trainable params\n",
            "253 M     Non-trainable params\n",
            "381 M     Total params\n",
            "1,525.412 Total estimated model params size (MB)\n",
            "752       Modules in train mode\n",
            "0         Modules in eval mode\n"
          ]
        },
        {
          "data": {
            "application/vnd.jupyter.widget-view+json": {
              "model_id": "36a1c68403724f8280ab43aefa76165e",
              "version_major": 2,
              "version_minor": 0
            },
            "text/plain": [
              "Sanity Checking: |          | 0/? [00:00<?, ?it/s]"
            ]
          },
          "metadata": {},
          "output_type": "display_data"
        },
        {
          "data": {
            "application/vnd.jupyter.widget-view+json": {
              "model_id": "33a0fbecb22a4cca93420ccd4cd20a34",
              "version_major": 2,
              "version_minor": 0
            },
            "text/plain": [
              "Training: |          | 0/? [00:00<?, ?it/s]"
            ]
          },
          "metadata": {},
          "output_type": "display_data"
        }
      ],
      "source": [
        "# Initialize model\n",
        "model = FloodRiskModel(num_classes=2, tim=TiM)\n",
        "assert isinstance(model, pl.LightningModule)\n",
        "\n",
        "# Setup callbacks\n",
        "checkpoint_callback = ModelCheckpoint(\n",
        "    dirpath=\"output/flood_risk/checkpoints/\",\n",
        "    filename=\"best-flood-iou-{epoch}-{val_iou:.3f}\",\n",
        "    monitor=\"val_iou\",\n",
        "    mode=\"max\",\n",
        "    save_top_k=3,\n",
        "    save_last=True\n",
        ")\n",
        "\n",
        "logger = TensorBoardLogger(\"output/flood_risk/logs\", name=\"flood_risk\")\n",
        "\n",
        "# Setup trainer\n",
        "trainer = pl.Trainer(\n",
        "    max_epochs=MAX_EPOCHS,\n",
        "    accelerator=\"gpu\" if torch.cuda.is_available() else \"cpu\",\n",
        "    devices=1,\n",
        "    callbacks=[checkpoint_callback],\n",
        "    logger=logger,\n",
        "    log_every_n_steps=100,\n",
        "    gradient_clip_val=1.0,\n",
        "    enable_checkpointing=True,\n",
        "    detect_anomaly=False,  # Disable anomaly detection to save memory\n",
        ")\n",
        "\n",
        "print(\" Starting flood segmentation training with CSV masks...\")\n",
        "trainer.fit(model, datamodule=datamodule)\n",
        "print(\" Training completed!\")"
      ]
    },
    {
      "cell_type": "code",
      "execution_count": null,
      "metadata": {
        "id": "Fs-jxNE_sDC7"
      },
      "outputs": [],
      "source": []
    }
  ],
  "metadata": {
    "accelerator": "GPU",
    "colab": {
      "gpuType": "L4",
      "machine_shape": "hm",
      "provenance": []
    },
    "kernelspec": {
      "display_name": "Python 3",
      "name": "python3"
    },
    "language_info": {
      "name": "python",
      "version": "3.12.0"
    },
    "widgets": {
      "application/vnd.jupyter.widget-state+json": {
        "0d531c70e388432db5e014c9ff9ff40f": {
          "model_module": "@jupyter-widgets/base",
          "model_module_version": "1.2.0",
          "model_name": "LayoutModel",
          "state": {
            "_model_module": "@jupyter-widgets/base",
            "_model_module_version": "1.2.0",
            "_model_name": "LayoutModel",
            "_view_count": null,
            "_view_module": "@jupyter-widgets/base",
            "_view_module_version": "1.2.0",
            "_view_name": "LayoutView",
            "align_content": null,
            "align_items": null,
            "align_self": null,
            "border": null,
            "bottom": null,
            "display": null,
            "flex": null,
            "flex_flow": null,
            "grid_area": null,
            "grid_auto_columns": null,
            "grid_auto_flow": null,
            "grid_auto_rows": null,
            "grid_column": null,
            "grid_gap": null,
            "grid_row": null,
            "grid_template_areas": null,
            "grid_template_columns": null,
            "grid_template_rows": null,
            "height": null,
            "justify_content": null,
            "justify_items": null,
            "left": null,
            "margin": null,
            "max_height": null,
            "max_width": null,
            "min_height": null,
            "min_width": null,
            "object_fit": null,
            "object_position": null,
            "order": null,
            "overflow": null,
            "overflow_x": null,
            "overflow_y": null,
            "padding": null,
            "right": null,
            "top": null,
            "visibility": null,
            "width": null
          }
        },
        "18e00dd764124e4691b974545ec52b5f": {
          "model_module": "@jupyter-widgets/controls",
          "model_module_version": "1.5.0",
          "model_name": "ProgressStyleModel",
          "state": {
            "_model_module": "@jupyter-widgets/controls",
            "_model_module_version": "1.5.0",
            "_model_name": "ProgressStyleModel",
            "_view_count": null,
            "_view_module": "@jupyter-widgets/base",
            "_view_module_version": "1.2.0",
            "_view_name": "StyleView",
            "bar_color": null,
            "description_width": ""
          }
        },
        "2524006852ce4aa89b45ee9cc138a154": {
          "model_module": "@jupyter-widgets/controls",
          "model_module_version": "1.5.0",
          "model_name": "FloatProgressModel",
          "state": {
            "_dom_classes": [],
            "_model_module": "@jupyter-widgets/controls",
            "_model_module_version": "1.5.0",
            "_model_name": "FloatProgressModel",
            "_view_count": null,
            "_view_module": "@jupyter-widgets/controls",
            "_view_module_version": "1.5.0",
            "_view_name": "ProgressView",
            "bar_style": "",
            "description": "",
            "description_tooltip": null,
            "layout": "IPY_MODEL_8d5e163354e841dd9d38b5bbf1474722",
            "max": 398,
            "min": 0,
            "orientation": "horizontal",
            "style": "IPY_MODEL_18e00dd764124e4691b974545ec52b5f",
            "value": 40
          }
        },
        "33a0fbecb22a4cca93420ccd4cd20a34": {
          "model_module": "@jupyter-widgets/controls",
          "model_module_version": "1.5.0",
          "model_name": "HBoxModel",
          "state": {
            "_dom_classes": [],
            "_model_module": "@jupyter-widgets/controls",
            "_model_module_version": "1.5.0",
            "_model_name": "HBoxModel",
            "_view_count": null,
            "_view_module": "@jupyter-widgets/controls",
            "_view_module_version": "1.5.0",
            "_view_name": "HBoxView",
            "box_style": "",
            "children": [
              "IPY_MODEL_88f7cdf333e64638af08d3e2026f959a",
              "IPY_MODEL_2524006852ce4aa89b45ee9cc138a154",
              "IPY_MODEL_c2e934ebc25041409b96d0480ad072e4"
            ],
            "layout": "IPY_MODEL_ba60ae635ffb492498b3ddb1ca3ae095"
          }
        },
        "36a1c68403724f8280ab43aefa76165e": {
          "model_module": "@jupyter-widgets/controls",
          "model_module_version": "1.5.0",
          "model_name": "HBoxModel",
          "state": {
            "_dom_classes": [],
            "_model_module": "@jupyter-widgets/controls",
            "_model_module_version": "1.5.0",
            "_model_name": "HBoxModel",
            "_view_count": null,
            "_view_module": "@jupyter-widgets/controls",
            "_view_module_version": "1.5.0",
            "_view_name": "HBoxView",
            "box_style": "",
            "children": [
              "IPY_MODEL_d7691cd2df92414ab930c5bc0ffc7eb1",
              "IPY_MODEL_40ba6b6bf3224c3a8844ef4d720976ee",
              "IPY_MODEL_e9833befadb549ec814e33a90e914623"
            ],
            "layout": "IPY_MODEL_a947ee6e85064b5192ea6b5c71d9cfb7"
          }
        },
        "371a0ef688bf405489c59df2861d688b": {
          "model_module": "@jupyter-widgets/base",
          "model_module_version": "1.2.0",
          "model_name": "LayoutModel",
          "state": {
            "_model_module": "@jupyter-widgets/base",
            "_model_module_version": "1.2.0",
            "_model_name": "LayoutModel",
            "_view_count": null,
            "_view_module": "@jupyter-widgets/base",
            "_view_module_version": "1.2.0",
            "_view_name": "LayoutView",
            "align_content": null,
            "align_items": null,
            "align_self": null,
            "border": null,
            "bottom": null,
            "display": null,
            "flex": null,
            "flex_flow": null,
            "grid_area": null,
            "grid_auto_columns": null,
            "grid_auto_flow": null,
            "grid_auto_rows": null,
            "grid_column": null,
            "grid_gap": null,
            "grid_row": null,
            "grid_template_areas": null,
            "grid_template_columns": null,
            "grid_template_rows": null,
            "height": null,
            "justify_content": null,
            "justify_items": null,
            "left": null,
            "margin": null,
            "max_height": null,
            "max_width": null,
            "min_height": null,
            "min_width": null,
            "object_fit": null,
            "object_position": null,
            "order": null,
            "overflow": null,
            "overflow_x": null,
            "overflow_y": null,
            "padding": null,
            "right": null,
            "top": null,
            "visibility": null,
            "width": null
          }
        },
        "40ba6b6bf3224c3a8844ef4d720976ee": {
          "model_module": "@jupyter-widgets/controls",
          "model_module_version": "1.5.0",
          "model_name": "FloatProgressModel",
          "state": {
            "_dom_classes": [],
            "_model_module": "@jupyter-widgets/controls",
            "_model_module_version": "1.5.0",
            "_model_name": "FloatProgressModel",
            "_view_count": null,
            "_view_module": "@jupyter-widgets/controls",
            "_view_module_version": "1.5.0",
            "_view_name": "ProgressView",
            "bar_style": "",
            "description": "",
            "description_tooltip": null,
            "layout": "IPY_MODEL_50f6035cc00a4327b9fe61c6ff0f83ad",
            "max": 2,
            "min": 0,
            "orientation": "horizontal",
            "style": "IPY_MODEL_d248bd705ea24e5089abda310df81e53",
            "value": 2
          }
        },
        "50f6035cc00a4327b9fe61c6ff0f83ad": {
          "model_module": "@jupyter-widgets/base",
          "model_module_version": "1.2.0",
          "model_name": "LayoutModel",
          "state": {
            "_model_module": "@jupyter-widgets/base",
            "_model_module_version": "1.2.0",
            "_model_name": "LayoutModel",
            "_view_count": null,
            "_view_module": "@jupyter-widgets/base",
            "_view_module_version": "1.2.0",
            "_view_name": "LayoutView",
            "align_content": null,
            "align_items": null,
            "align_self": null,
            "border": null,
            "bottom": null,
            "display": null,
            "flex": "2",
            "flex_flow": null,
            "grid_area": null,
            "grid_auto_columns": null,
            "grid_auto_flow": null,
            "grid_auto_rows": null,
            "grid_column": null,
            "grid_gap": null,
            "grid_row": null,
            "grid_template_areas": null,
            "grid_template_columns": null,
            "grid_template_rows": null,
            "height": null,
            "justify_content": null,
            "justify_items": null,
            "left": null,
            "margin": null,
            "max_height": null,
            "max_width": null,
            "min_height": null,
            "min_width": null,
            "object_fit": null,
            "object_position": null,
            "order": null,
            "overflow": null,
            "overflow_x": null,
            "overflow_y": null,
            "padding": null,
            "right": null,
            "top": null,
            "visibility": null,
            "width": null
          }
        },
        "714d285bd4d64d70a445199735d72dab": {
          "model_module": "@jupyter-widgets/controls",
          "model_module_version": "1.5.0",
          "model_name": "DescriptionStyleModel",
          "state": {
            "_model_module": "@jupyter-widgets/controls",
            "_model_module_version": "1.5.0",
            "_model_name": "DescriptionStyleModel",
            "_view_count": null,
            "_view_module": "@jupyter-widgets/base",
            "_view_module_version": "1.2.0",
            "_view_name": "StyleView",
            "description_width": ""
          }
        },
        "7d087cb10e1443e4bef9672df7ef8c38": {
          "model_module": "@jupyter-widgets/base",
          "model_module_version": "1.2.0",
          "model_name": "LayoutModel",
          "state": {
            "_model_module": "@jupyter-widgets/base",
            "_model_module_version": "1.2.0",
            "_model_name": "LayoutModel",
            "_view_count": null,
            "_view_module": "@jupyter-widgets/base",
            "_view_module_version": "1.2.0",
            "_view_name": "LayoutView",
            "align_content": null,
            "align_items": null,
            "align_self": null,
            "border": null,
            "bottom": null,
            "display": null,
            "flex": null,
            "flex_flow": null,
            "grid_area": null,
            "grid_auto_columns": null,
            "grid_auto_flow": null,
            "grid_auto_rows": null,
            "grid_column": null,
            "grid_gap": null,
            "grid_row": null,
            "grid_template_areas": null,
            "grid_template_columns": null,
            "grid_template_rows": null,
            "height": null,
            "justify_content": null,
            "justify_items": null,
            "left": null,
            "margin": null,
            "max_height": null,
            "max_width": null,
            "min_height": null,
            "min_width": null,
            "object_fit": null,
            "object_position": null,
            "order": null,
            "overflow": null,
            "overflow_x": null,
            "overflow_y": null,
            "padding": null,
            "right": null,
            "top": null,
            "visibility": null,
            "width": null
          }
        },
        "86f263918c724287a83815369bf8c524": {
          "model_module": "@jupyter-widgets/controls",
          "model_module_version": "1.5.0",
          "model_name": "DescriptionStyleModel",
          "state": {
            "_model_module": "@jupyter-widgets/controls",
            "_model_module_version": "1.5.0",
            "_model_name": "DescriptionStyleModel",
            "_view_count": null,
            "_view_module": "@jupyter-widgets/base",
            "_view_module_version": "1.2.0",
            "_view_name": "StyleView",
            "description_width": ""
          }
        },
        "88f7cdf333e64638af08d3e2026f959a": {
          "model_module": "@jupyter-widgets/controls",
          "model_module_version": "1.5.0",
          "model_name": "HTMLModel",
          "state": {
            "_dom_classes": [],
            "_model_module": "@jupyter-widgets/controls",
            "_model_module_version": "1.5.0",
            "_model_name": "HTMLModel",
            "_view_count": null,
            "_view_module": "@jupyter-widgets/controls",
            "_view_module_version": "1.5.0",
            "_view_name": "HTMLView",
            "description": "",
            "description_tooltip": null,
            "layout": "IPY_MODEL_bbaf7afce7df42e282cbc15058e3f09e",
            "placeholder": "​",
            "style": "IPY_MODEL_9518baf157e344c79d80bc3296fb6359",
            "value": "Epoch 0:  10%"
          }
        },
        "8d5e163354e841dd9d38b5bbf1474722": {
          "model_module": "@jupyter-widgets/base",
          "model_module_version": "1.2.0",
          "model_name": "LayoutModel",
          "state": {
            "_model_module": "@jupyter-widgets/base",
            "_model_module_version": "1.2.0",
            "_model_name": "LayoutModel",
            "_view_count": null,
            "_view_module": "@jupyter-widgets/base",
            "_view_module_version": "1.2.0",
            "_view_name": "LayoutView",
            "align_content": null,
            "align_items": null,
            "align_self": null,
            "border": null,
            "bottom": null,
            "display": null,
            "flex": "2",
            "flex_flow": null,
            "grid_area": null,
            "grid_auto_columns": null,
            "grid_auto_flow": null,
            "grid_auto_rows": null,
            "grid_column": null,
            "grid_gap": null,
            "grid_row": null,
            "grid_template_areas": null,
            "grid_template_columns": null,
            "grid_template_rows": null,
            "height": null,
            "justify_content": null,
            "justify_items": null,
            "left": null,
            "margin": null,
            "max_height": null,
            "max_width": null,
            "min_height": null,
            "min_width": null,
            "object_fit": null,
            "object_position": null,
            "order": null,
            "overflow": null,
            "overflow_x": null,
            "overflow_y": null,
            "padding": null,
            "right": null,
            "top": null,
            "visibility": null,
            "width": null
          }
        },
        "9518baf157e344c79d80bc3296fb6359": {
          "model_module": "@jupyter-widgets/controls",
          "model_module_version": "1.5.0",
          "model_name": "DescriptionStyleModel",
          "state": {
            "_model_module": "@jupyter-widgets/controls",
            "_model_module_version": "1.5.0",
            "_model_name": "DescriptionStyleModel",
            "_view_count": null,
            "_view_module": "@jupyter-widgets/base",
            "_view_module_version": "1.2.0",
            "_view_name": "StyleView",
            "description_width": ""
          }
        },
        "a947ee6e85064b5192ea6b5c71d9cfb7": {
          "model_module": "@jupyter-widgets/base",
          "model_module_version": "1.2.0",
          "model_name": "LayoutModel",
          "state": {
            "_model_module": "@jupyter-widgets/base",
            "_model_module_version": "1.2.0",
            "_model_name": "LayoutModel",
            "_view_count": null,
            "_view_module": "@jupyter-widgets/base",
            "_view_module_version": "1.2.0",
            "_view_name": "LayoutView",
            "align_content": null,
            "align_items": null,
            "align_self": null,
            "border": null,
            "bottom": null,
            "display": "inline-flex",
            "flex": null,
            "flex_flow": "row wrap",
            "grid_area": null,
            "grid_auto_columns": null,
            "grid_auto_flow": null,
            "grid_auto_rows": null,
            "grid_column": null,
            "grid_gap": null,
            "grid_row": null,
            "grid_template_areas": null,
            "grid_template_columns": null,
            "grid_template_rows": null,
            "height": null,
            "justify_content": null,
            "justify_items": null,
            "left": null,
            "margin": null,
            "max_height": null,
            "max_width": null,
            "min_height": null,
            "min_width": null,
            "object_fit": null,
            "object_position": null,
            "order": null,
            "overflow": null,
            "overflow_x": null,
            "overflow_y": null,
            "padding": null,
            "right": null,
            "top": null,
            "visibility": "hidden",
            "width": "100%"
          }
        },
        "abf0be2bfbac461d8e5c9154ba5eab5e": {
          "model_module": "@jupyter-widgets/controls",
          "model_module_version": "1.5.0",
          "model_name": "DescriptionStyleModel",
          "state": {
            "_model_module": "@jupyter-widgets/controls",
            "_model_module_version": "1.5.0",
            "_model_name": "DescriptionStyleModel",
            "_view_count": null,
            "_view_module": "@jupyter-widgets/base",
            "_view_module_version": "1.2.0",
            "_view_name": "StyleView",
            "description_width": ""
          }
        },
        "ba60ae635ffb492498b3ddb1ca3ae095": {
          "model_module": "@jupyter-widgets/base",
          "model_module_version": "1.2.0",
          "model_name": "LayoutModel",
          "state": {
            "_model_module": "@jupyter-widgets/base",
            "_model_module_version": "1.2.0",
            "_model_name": "LayoutModel",
            "_view_count": null,
            "_view_module": "@jupyter-widgets/base",
            "_view_module_version": "1.2.0",
            "_view_name": "LayoutView",
            "align_content": null,
            "align_items": null,
            "align_self": null,
            "border": null,
            "bottom": null,
            "display": "inline-flex",
            "flex": null,
            "flex_flow": "row wrap",
            "grid_area": null,
            "grid_auto_columns": null,
            "grid_auto_flow": null,
            "grid_auto_rows": null,
            "grid_column": null,
            "grid_gap": null,
            "grid_row": null,
            "grid_template_areas": null,
            "grid_template_columns": null,
            "grid_template_rows": null,
            "height": null,
            "justify_content": null,
            "justify_items": null,
            "left": null,
            "margin": null,
            "max_height": null,
            "max_width": null,
            "min_height": null,
            "min_width": null,
            "object_fit": null,
            "object_position": null,
            "order": null,
            "overflow": null,
            "overflow_x": null,
            "overflow_y": null,
            "padding": null,
            "right": null,
            "top": null,
            "visibility": null,
            "width": "100%"
          }
        },
        "bbaf7afce7df42e282cbc15058e3f09e": {
          "model_module": "@jupyter-widgets/base",
          "model_module_version": "1.2.0",
          "model_name": "LayoutModel",
          "state": {
            "_model_module": "@jupyter-widgets/base",
            "_model_module_version": "1.2.0",
            "_model_name": "LayoutModel",
            "_view_count": null,
            "_view_module": "@jupyter-widgets/base",
            "_view_module_version": "1.2.0",
            "_view_name": "LayoutView",
            "align_content": null,
            "align_items": null,
            "align_self": null,
            "border": null,
            "bottom": null,
            "display": null,
            "flex": null,
            "flex_flow": null,
            "grid_area": null,
            "grid_auto_columns": null,
            "grid_auto_flow": null,
            "grid_auto_rows": null,
            "grid_column": null,
            "grid_gap": null,
            "grid_row": null,
            "grid_template_areas": null,
            "grid_template_columns": null,
            "grid_template_rows": null,
            "height": null,
            "justify_content": null,
            "justify_items": null,
            "left": null,
            "margin": null,
            "max_height": null,
            "max_width": null,
            "min_height": null,
            "min_width": null,
            "object_fit": null,
            "object_position": null,
            "order": null,
            "overflow": null,
            "overflow_x": null,
            "overflow_y": null,
            "padding": null,
            "right": null,
            "top": null,
            "visibility": null,
            "width": null
          }
        },
        "c2e934ebc25041409b96d0480ad072e4": {
          "model_module": "@jupyter-widgets/controls",
          "model_module_version": "1.5.0",
          "model_name": "HTMLModel",
          "state": {
            "_dom_classes": [],
            "_model_module": "@jupyter-widgets/controls",
            "_model_module_version": "1.5.0",
            "_model_name": "HTMLModel",
            "_view_count": null,
            "_view_module": "@jupyter-widgets/controls",
            "_view_module_version": "1.5.0",
            "_view_name": "HTMLView",
            "description": "",
            "description_tooltip": null,
            "layout": "IPY_MODEL_7d087cb10e1443e4bef9672df7ef8c38",
            "placeholder": "​",
            "style": "IPY_MODEL_abf0be2bfbac461d8e5c9154ba5eab5e",
            "value": " 40/398 [01:05&lt;09:46,  0.61it/s, v_num=2, train_loss_step=0.660, train_iou_step=0.392, train_acc_step=0.604, train_f1_step=0.604]"
          }
        },
        "d248bd705ea24e5089abda310df81e53": {
          "model_module": "@jupyter-widgets/controls",
          "model_module_version": "1.5.0",
          "model_name": "ProgressStyleModel",
          "state": {
            "_model_module": "@jupyter-widgets/controls",
            "_model_module_version": "1.5.0",
            "_model_name": "ProgressStyleModel",
            "_view_count": null,
            "_view_module": "@jupyter-widgets/base",
            "_view_module_version": "1.2.0",
            "_view_name": "StyleView",
            "bar_color": null,
            "description_width": ""
          }
        },
        "d7691cd2df92414ab930c5bc0ffc7eb1": {
          "model_module": "@jupyter-widgets/controls",
          "model_module_version": "1.5.0",
          "model_name": "HTMLModel",
          "state": {
            "_dom_classes": [],
            "_model_module": "@jupyter-widgets/controls",
            "_model_module_version": "1.5.0",
            "_model_name": "HTMLModel",
            "_view_count": null,
            "_view_module": "@jupyter-widgets/controls",
            "_view_module_version": "1.5.0",
            "_view_name": "HTMLView",
            "description": "",
            "description_tooltip": null,
            "layout": "IPY_MODEL_371a0ef688bf405489c59df2861d688b",
            "placeholder": "​",
            "style": "IPY_MODEL_714d285bd4d64d70a445199735d72dab",
            "value": "Sanity Checking DataLoader 0: 100%"
          }
        },
        "e9833befadb549ec814e33a90e914623": {
          "model_module": "@jupyter-widgets/controls",
          "model_module_version": "1.5.0",
          "model_name": "HTMLModel",
          "state": {
            "_dom_classes": [],
            "_model_module": "@jupyter-widgets/controls",
            "_model_module_version": "1.5.0",
            "_model_name": "HTMLModel",
            "_view_count": null,
            "_view_module": "@jupyter-widgets/controls",
            "_view_module_version": "1.5.0",
            "_view_name": "HTMLView",
            "description": "",
            "description_tooltip": null,
            "layout": "IPY_MODEL_0d531c70e388432db5e014c9ff9ff40f",
            "placeholder": "​",
            "style": "IPY_MODEL_86f263918c724287a83815369bf8c524",
            "value": " 2/2 [00:02&lt;00:00,  0.74it/s]"
          }
        }
      }
    }
  },
  "nbformat": 4,
  "nbformat_minor": 0
}
